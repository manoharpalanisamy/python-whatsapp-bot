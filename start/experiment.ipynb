{
 "cells": [
  {
   "cell_type": "code",
   "execution_count": 1,
   "metadata": {},
   "outputs": [
    {
     "data": {
      "text/plain": [
       "4"
      ]
     },
     "execution_count": 1,
     "metadata": {},
     "output_type": "execute_result"
    }
   ],
   "source": [
    "2+2"
   ]
  },
  {
   "cell_type": "code",
   "execution_count": 2,
   "metadata": {},
   "outputs": [],
   "source": [
    "import json\n",
    "from dotenv import load_dotenv\n",
    "import os\n",
    "import requests\n",
    "import aiohttp\n",
    "import asyncio"
   ]
  },
  {
   "cell_type": "code",
   "execution_count": 3,
   "metadata": {},
   "outputs": [
    {
     "name": "stdout",
     "output_type": "stream",
     "text": [
      "919819876078\n"
     ]
    }
   ],
   "source": [
    "# --------------------------------------------------------------\n",
    "# Load environment variables\n",
    "# --------------------------------------------------------------\n",
    "\n",
    "load_dotenv()\n",
    "ACCESS_TOKEN = os.getenv(\"ACCESS_TOKEN\")\n",
    "RECIPIENT_WAID = os.getenv(\"RECIPIENT_WAID\")\n",
    "PHONE_NUMBER_ID = os.getenv(\"PHONE_NUMBER_ID\")\n",
    "VERSION = os.getenv(\"VERSION\")\n",
    "\n",
    "APP_ID = os.getenv(\"APP_ID\")\n",
    "APP_SECRET = os.getenv(\"APP_SECRET\")\n",
    "print(RECIPIENT_WAID)\n"
   ]
  },
  {
   "cell_type": "code",
   "execution_count": 4,
   "metadata": {},
   "outputs": [],
   "source": [
    "# --------------------------------------------------------------\n",
    "# Send a template WhatsApp message\n",
    "# --------------------------------------------------------------\n",
    "\n",
    "def send_whatsapp_message():\n",
    "    url = f\"https://graph.facebook.com/{VERSION}/{PHONE_NUMBER_ID}/messages\"\n",
    "    headers = {\n",
    "        \"Authorization\": \"Bearer \" + ACCESS_TOKEN,\n",
    "        \"Content-Type\": \"application/json\",\n",
    "    }\n",
    "    data = {\n",
    "        \"messaging_product\": \"whatsapp\",\n",
    "        \"to\": RECIPIENT_WAID,\n",
    "        \"type\": \"template\",\n",
    "        \"template\": {\"name\": \"hello_world\", \"language\": {\"code\": \"en_US\"}},\n",
    "    }\n",
    "    response = requests.post(url, headers=headers, json=data)\n",
    "    return response\n"
   ]
  },
  {
   "cell_type": "code",
   "execution_count": 5,
   "metadata": {},
   "outputs": [
    {
     "name": "stdout",
     "output_type": "stream",
     "text": [
      "200\n",
      "{'messaging_product': 'whatsapp', 'contacts': [{'input': '919819876078', 'wa_id': '919819876078'}], 'messages': [{'id': 'wamid.HBgMOTE5ODE5ODc2MDc4FQIAERgSQ0NFOTA5Mjg0MDZDODAyRDIxAA==', 'message_status': 'accepted'}]}\n"
     ]
    }
   ],
   "source": [
    "\n",
    "# Call the function\n",
    "response = send_whatsapp_message()\n",
    "print(response.status_code)\n",
    "print(response.json())"
   ]
  },
  {
   "cell_type": "code",
   "execution_count": 6,
   "metadata": {},
   "outputs": [],
   "source": [
    "# --------------------------------------------------------------\n",
    "# Send a custom text WhatsApp message\n",
    "# --------------------------------------------------------------\n",
    "\n",
    "# NOTE: First reply to the message from the user in WhatsApp!\n",
    "\n",
    "\n",
    "def get_text_message_input(recipient, text):\n",
    "    return json.dumps(\n",
    "        {\n",
    "            \"messaging_product\": \"whatsapp\",\n",
    "            \"recipient_type\": \"individual\",\n",
    "            \"to\": recipient,\n",
    "            \"type\": \"text\",\n",
    "            \"text\": {\"preview_url\": False, \"body\": text},\n",
    "        }\n",
    "    )\n"
   ]
  },
  {
   "cell_type": "code",
   "execution_count": 7,
   "metadata": {},
   "outputs": [],
   "source": [
    "def send_message(data):\n",
    "    headers = {\n",
    "        \"Content-type\": \"application/json\",\n",
    "        \"Authorization\": f\"Bearer {ACCESS_TOKEN}\",\n",
    "    }\n",
    "\n",
    "    url = f\"https://graph.facebook.com/{VERSION}/{PHONE_NUMBER_ID}/messages\"\n",
    "\n",
    "    response = requests.post(url, data=data, headers=headers)\n",
    "    if response.status_code == 200:\n",
    "        print(\"Status:\", response.status_code)\n",
    "        print(\"Content-type:\", response.headers[\"content-type\"])\n",
    "        print(\"Body:\", response.text)\n",
    "        return response\n",
    "    else:\n",
    "        print(response.status_code)\n",
    "        print(response.text)\n",
    "        return response"
   ]
  },
  {
   "cell_type": "code",
   "execution_count": 10,
   "metadata": {},
   "outputs": [],
   "source": [
    "data = get_text_message_input(\n",
    "    recipient=RECIPIENT_WAID, text=\"Hello, Manohar.\"\n",
    ")"
   ]
  },
  {
   "cell_type": "code",
   "execution_count": 11,
   "metadata": {},
   "outputs": [
    {
     "name": "stdout",
     "output_type": "stream",
     "text": [
      "Status: 200\n",
      "Content-type: application/json; charset=UTF-8\n",
      "Body: {\"messaging_product\":\"whatsapp\",\"contacts\":[{\"input\":\"919819876078\",\"wa_id\":\"919819876078\"}],\"messages\":[{\"id\":\"wamid.HBgMOTE5ODE5ODc2MDc4FQIAERgSMURBNjE3MTdBMTk3QTgyOEI0AA==\"}]}\n"
     ]
    }
   ],
   "source": [
    "response = send_message(data)"
   ]
  },
  {
   "cell_type": "code",
   "execution_count": null,
   "metadata": {},
   "outputs": [],
   "source": []
  }
 ],
 "metadata": {
  "kernelspec": {
   "display_name": "Python 3 (ipykernel)",
   "language": "python",
   "name": "python3"
  },
  "language_info": {
   "codemirror_mode": {
    "name": "ipython",
    "version": 3
   },
   "file_extension": ".py",
   "mimetype": "text/x-python",
   "name": "python",
   "nbconvert_exporter": "python",
   "pygments_lexer": "ipython3",
   "version": "3.10.14"
  }
 },
 "nbformat": 4,
 "nbformat_minor": 2
}
